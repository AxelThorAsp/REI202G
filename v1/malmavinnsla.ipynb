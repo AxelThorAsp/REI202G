{
 "cells": [
  {
   "cell_type": "code",
   "execution_count": null,
   "metadata": {},
   "outputs": [],
   "source": [
    "import numpy as np\n",
    "import matplotlib.pyplot as plt\n",
    "\n",
    "skrá = \"https://cs.hi.is/python/allir-malmar.txt\"\n",
    "A = np.loadtxt(skrá, skiprows=1, delimiter=';', dtype='str', encoding = 'utf-8').T\n",
    "efnatákn    = A[0].tolist()\n",
    "nafn        = A[1].tolist()\n",
    "sætistala   = A[2].astype(int)\n",
    "A3          = np.char.replace(A[3], \",\", \".\")\n",
    "eðlisþyngd  = A3.astype(float)\n",
    "bræðslumark = A[4].astype(int)\n",
    "enskt_nafn  = A[5].tolist()\n",
    "\n"
   ]
  },
  {
   "cell_type": "code",
   "execution_count": null,
   "metadata": {},
   "outputs": [],
   "source": [
    "\n",
    "def noble_gas_atomic_number(k):\n",
    "    if k == 0:\n",
    "        return -1\n",
    "    if k & 1:\n",
    "        return ((k+1)*(k+2)*(k+3) // 6) - 2 \n",
    "    return ((k+1)*(k+2)*(k+3) // 6) + k // 2 - 1 "
   ]
  },
  {
   "cell_type": "code",
   "execution_count": null,
   "metadata": {},
   "outputs": [],
   "source": [
    "\n",
    "def lota(s):\n",
    "    assert s > 0 and s < 119\n",
    "    for k in range(1,8):\n",
    "        if s <= noble_gas_atomic_number(k):\n",
    "            return k"
   ]
  },
  {
   "cell_type": "code",
   "execution_count": null,
   "metadata": {},
   "outputs": [],
   "source": [
    "def flokkur(s):\n",
    "    if s == 1:\n",
    "        return 1\n",
    "    if s > 1 and s <= (noble_gas_atomic_number(lota(s) - 1) + 2):\n",
    "        return s - noble_gas_atomic_number(lota(s) - 1)\n",
    "    return max(3,18 + s - noble_gas_atomic_number(lota(s)))\n",
    "\n"
   ]
  },
  {
   "cell_type": "code",
   "execution_count": null,
   "metadata": {},
   "outputs": [],
   "source": [
    "def íslenska(s):\n",
    "    a = list('0123456789aábcdðeéfghiíjklmnoópqrstuúvwxyýzþæö')\n",
    "    k = dict(zip(a, range(1,len(a)+1)))\n",
    "    return [k.get(c.lower(),0) for c in s]\n",
    "\n",
    "\n",
    "d = dict(zip(nafn, enskt_nafn))\n",
    "\n",
    "for n in sorted(nafn, key = íslenska):\n",
    "    print(n.capitalize(), d[n])\n",
    "\n"
   ]
  },
  {
   "cell_type": "code",
   "execution_count": null,
   "metadata": {},
   "outputs": [],
   "source": [
    "x = sætistala\n",
    "y = eðlisþyngd\n",
    "colors = [lota(i) for i in x]\n",
    "size = [(s + 2)**2 for s in y]\n",
    "plt.scatter(x,y,s = size,c = colors)\n",
    "plt.colorbar(label = \"lota\")\n",
    "plt.xlabel(\"Sætistala\")\n",
    "plt.ylabel(\"Eðlisþyngd\")\n",
    "plt.show()"
   ]
  }
 ],
 "metadata": {
  "kernelspec": {
   "display_name": ".venv",
   "language": "python",
   "name": "python3"
  },
  "language_info": {
   "name": "python",
   "version": "3.10.5 (tags/v3.10.5:f377153, Jun  6 2022, 16:14:13) [MSC v.1929 64 bit (AMD64)]"
  },
  "orig_nbformat": 4,
  "vscode": {
   "interpreter": {
    "hash": "e74db5ac28f0cd218af4b95ec028fe13dfaa4d8aac89a0427ea13e75729f6829"
   }
  }
 },
 "nbformat": 4,
 "nbformat_minor": 2
}
