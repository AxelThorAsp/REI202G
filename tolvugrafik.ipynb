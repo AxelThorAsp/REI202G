{
 "cells": [
  {
   "cell_type": "code",
   "execution_count": null,
   "metadata": {},
   "outputs": [],
   "source": [
    "import matplotlib.pyplot as plt, numpy as np\n",
    "from math import nan"
   ]
  },
  {
   "cell_type": "code",
   "execution_count": null,
   "metadata": {},
   "outputs": [],
   "source": [
    "TRIANGLE = np.array([\n",
    "            [1, 3, 4, 1, nan, 3, 3],\n",
    "            [0, 2, 0, 0, nan, 2, 0]\n",
    "            ])\n",
    "\n",
    "SQUARE = np.array([\n",
    "            [0, 3, 3, 0, 0, nan, 1, 2], \n",
    "            [0, 0, 2, 2, 0, nan, 1, 1]\n",
    "            ])\n",
    "\n",
    "CONCENTRIC = np.array([\n",
    "            [0, 0, 3, 3, 0, nan, 1, 1, 2, 2 ,1], \n",
    "            [0, 5, 5, 0, 0, nan, 1, 4, 4, 1 ,1]\n",
    "            ])\n",
    "\n"
   ]
  },
  {
   "cell_type": "code",
   "execution_count": null,
   "metadata": {},
   "outputs": [],
   "source": [
    "class Graph:\n",
    "\n",
    "    def __init__(self, shape) -> None:\n",
    "        self.shape = shape\n",
    "    \n",
    "    def shear(self, lmbda):\n",
    "        \"\"\"\n",
    "        Skekkir hlutinn.\n",
    "        x' = x + \\lambda y \n",
    "        \"\"\"\n",
    "        self.shape = np.array([[1, lmbda],[0, 1]]) @ self.shape\n",
    "\n",
    "    def translate(self, h):\n",
    "        \"\"\"\n",
    "        Hliðra um vigurinn h\n",
    "        \"\"\"\n",
    "        self.shape = self.shape + np.reshape(h, (2,1))\n",
    "    \n",
    "    def R(self, theta):\n",
    "        \"\"\"\n",
    "        Snúningsfylki\n",
    "        \"\"\"\n",
    "        return np.array([[np.cos(theta), -np.sin(theta)],\n",
    "                         [np.sin(theta), np.cos(theta)]])\n",
    "    \n",
    "    def R_inv(self, theta):\n",
    "        \"\"\"\n",
    "        Andhverfa snúningsfylkisins\n",
    "        \"\"\"\n",
    "        return np.linalg.inv(self.R(theta))\n",
    "\n",
    "    def rotate(self, theta):\n",
    "        \"\"\"\n",
    "        Snýr hlutnum rangsælis um theta gráður m.t.t. (0,0)\n",
    "        \"\"\"\n",
    "        self.shape = self.R(theta) @ self.shape\n",
    "\n",
    "    def rotate_around_point(self, point, theta):\n",
    "        \"\"\"\n",
    "        Snýr hlutnum rangsælis theta gráður m.t.t. punktsins `point`\n",
    "        \"\"\"\n",
    "        self.translate(point * -1)\n",
    "        self.rotate(theta)\n",
    "        self.translate(point)\n",
    "    \n",
    "    def R_x(self):\n",
    "        \"\"\"\n",
    "        Skilar fylkinu sem speglar um x-ás\n",
    "        \"\"\"\n",
    "        return np.array([[1, 0],[0, -1]])\n",
    "\n",
    "    def reflect(self):\n",
    "        \"\"\"\n",
    "        Speglar hlutnum um x-ás\n",
    "        \"\"\"\n",
    "        self.shape = self.R_x() @ self.shape\n",
    "\n",
    "    def reflect_line(self, a):\n",
    "        \"\"\"\n",
    "        Speglar hlutnum um línuna y = ax\n",
    "        \"\"\"\n",
    "        theta = np.arctan(a)\n",
    "        self.shape = self.R(theta) @ self.R_x() @ self.R_inv(theta) @ self.shape\n",
    "\n",
    "    def plot(self):\n",
    "        plt.plot(self.shape[0], self.shape[1], 'go-', lw  = 3)\n",
    "\n",
    "    def draw_line(self,a):\n",
    "        plt.plot([0,5],[0, 5*a])\n",
    "\n",
    "    def show(self):\n",
    "        plt.rc('axes', axisbelow=True)\n",
    "        plt.axis('equal')\n",
    "        plt.show()\n"
   ]
  },
  {
   "attachments": {},
   "cell_type": "markdown",
   "metadata": {},
   "source": [
    "1. Shear"
   ]
  },
  {
   "cell_type": "code",
   "execution_count": null,
   "metadata": {},
   "outputs": [],
   "source": [
    "M = Graph(SQUARE)\n",
    "\n",
    "M.plot()\n",
    "#30 gráður\n",
    "M.shear(1/np.tan(1.0472))\n",
    "M.plot()\n",
    "M.show()"
   ]
  },
  {
   "attachments": {},
   "cell_type": "markdown",
   "metadata": {},
   "source": [
    "2. Snúningsfylki"
   ]
  },
  {
   "cell_type": "code",
   "execution_count": null,
   "metadata": {},
   "outputs": [],
   "source": [
    "M = Graph(SQUARE)\n",
    "M.plot()\n",
    "M.rotate(np.pi / 2)\n",
    "M.plot()\n",
    "M.show()"
   ]
  },
  {
   "attachments": {},
   "cell_type": "markdown",
   "metadata": {},
   "source": [
    "3. Sammiðja rétthyrningur"
   ]
  },
  {
   "cell_type": "code",
   "execution_count": null,
   "metadata": {},
   "outputs": [],
   "source": [
    "C = Graph(CONCENTRIC)\n",
    "C.plot()\n",
    "C.show()"
   ]
  },
  {
   "attachments": {},
   "cell_type": "markdown",
   "metadata": {},
   "source": [
    "4. Þríhyrningur með hæð"
   ]
  },
  {
   "cell_type": "code",
   "execution_count": null,
   "metadata": {},
   "outputs": [],
   "source": [
    "T = Graph(TRIANGLE)\n",
    "T.plot()\n",
    "T.show()"
   ]
  },
  {
   "attachments": {},
   "cell_type": "markdown",
   "metadata": {},
   "source": [
    "5. Hliðra-snúa-hliðra\n"
   ]
  },
  {
   "cell_type": "code",
   "execution_count": null,
   "metadata": {},
   "outputs": [],
   "source": [
    "T = Graph(TRIANGLE)\n",
    "T.plot()\n",
    "T.rotate_around_point(np.array([[3],[2]]), np.pi)\n",
    "T.plot()\n",
    "T.show()"
   ]
  },
  {
   "attachments": {},
   "cell_type": "markdown",
   "metadata": {},
   "source": [
    "6. Snúa-spegla-snúa\n"
   ]
  },
  {
   "cell_type": "code",
   "execution_count": null,
   "metadata": {},
   "outputs": [],
   "source": [
    "T = Graph(TRIANGLE)\n",
    "T.plot()\n",
    "T.reflect_line(1)\n",
    "T.plot()\n",
    "T.draw_line(1)\n",
    "T.show()"
   ]
  },
  {
   "cell_type": "code",
   "execution_count": null,
   "metadata": {},
   "outputs": [],
   "source": []
  }
 ],
 "metadata": {
  "kernelspec": {
   "display_name": ".venv",
   "language": "python",
   "name": "python3"
  },
  "language_info": {
   "codemirror_mode": {
    "name": "ipython",
    "version": 3
   },
   "file_extension": ".py",
   "mimetype": "text/x-python",
   "name": "python",
   "nbconvert_exporter": "python",
   "pygments_lexer": "ipython3",
   "version": "3.11.1"
  },
  "orig_nbformat": 4,
  "vscode": {
   "interpreter": {
    "hash": "e63d29e17b274148f3c77885aa9cacf885d740c3e93f7aec53cd4a864a714e07"
   }
  }
 },
 "nbformat": 4,
 "nbformat_minor": 2
}
